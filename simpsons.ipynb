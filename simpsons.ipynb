{
 "cells": [
  {
   "cell_type": "markdown",
   "metadata": {},
   "source": [
    "DATASET LINK: \"https://www.kaggle.com/datasets/pierremegret/dialogue-lines-of-the-simpsons\""
   ]
  },
  {
   "cell_type": "code",
   "execution_count": 6,
   "metadata": {},
   "outputs": [],
   "source": [
    "import numpy as np\n",
    "import pandas as pd"
   ]
  },
  {
   "cell_type": "code",
   "execution_count": 7,
   "metadata": {},
   "outputs": [],
   "source": [
    "import re\n",
    "from time import time \n",
    "from collections import defaultdict\n",
    "import spacy "
   ]
  },
  {
   "cell_type": "code",
   "execution_count": 8,
   "metadata": {},
   "outputs": [],
   "source": [
    "# Setting up the loggings to monitor gensim\n",
    "import logging \n",
    "logging.basicConfig(format=\"%(levelname)s - %(asctime)s: %(message)s\", datefmt= '%H:%M:%S', level=logging.INFO)"
   ]
  },
  {
   "cell_type": "code",
   "execution_count": 9,
   "metadata": {},
   "outputs": [],
   "source": [
    "df= pd.read_csv('simpsons_dataset.csv')"
   ]
  },
  {
   "cell_type": "code",
   "execution_count": 10,
   "metadata": {},
   "outputs": [
    {
     "data": {
      "text/html": [
       "<div>\n",
       "<style scoped>\n",
       "    .dataframe tbody tr th:only-of-type {\n",
       "        vertical-align: middle;\n",
       "    }\n",
       "\n",
       "    .dataframe tbody tr th {\n",
       "        vertical-align: top;\n",
       "    }\n",
       "\n",
       "    .dataframe thead th {\n",
       "        text-align: right;\n",
       "    }\n",
       "</style>\n",
       "<table border=\"1\" class=\"dataframe\">\n",
       "  <thead>\n",
       "    <tr style=\"text-align: right;\">\n",
       "      <th></th>\n",
       "      <th>raw_character_text</th>\n",
       "      <th>spoken_words</th>\n",
       "    </tr>\n",
       "  </thead>\n",
       "  <tbody>\n",
       "    <tr>\n",
       "      <th>0</th>\n",
       "      <td>Miss Hoover</td>\n",
       "      <td>No, actually, it was a little of both. Sometim...</td>\n",
       "    </tr>\n",
       "    <tr>\n",
       "      <th>1</th>\n",
       "      <td>Lisa Simpson</td>\n",
       "      <td>Where's Mr. Bergstrom?</td>\n",
       "    </tr>\n",
       "    <tr>\n",
       "      <th>2</th>\n",
       "      <td>Miss Hoover</td>\n",
       "      <td>I don't know. Although I'd sure like to talk t...</td>\n",
       "    </tr>\n",
       "    <tr>\n",
       "      <th>3</th>\n",
       "      <td>Lisa Simpson</td>\n",
       "      <td>That life is worth living.</td>\n",
       "    </tr>\n",
       "    <tr>\n",
       "      <th>4</th>\n",
       "      <td>Edna Krabappel-Flanders</td>\n",
       "      <td>The polls will be open from now until the end ...</td>\n",
       "    </tr>\n",
       "  </tbody>\n",
       "</table>\n",
       "</div>"
      ],
      "text/plain": [
       "        raw_character_text                                       spoken_words\n",
       "0              Miss Hoover  No, actually, it was a little of both. Sometim...\n",
       "1             Lisa Simpson                             Where's Mr. Bergstrom?\n",
       "2              Miss Hoover  I don't know. Although I'd sure like to talk t...\n",
       "3             Lisa Simpson                         That life is worth living.\n",
       "4  Edna Krabappel-Flanders  The polls will be open from now until the end ..."
      ]
     },
     "execution_count": 10,
     "metadata": {},
     "output_type": "execute_result"
    }
   ],
   "source": [
    "df.head()"
   ]
  },
  {
   "cell_type": "code",
   "execution_count": 11,
   "metadata": {},
   "outputs": [
    {
     "data": {
      "text/plain": [
       "(158314, 2)"
      ]
     },
     "execution_count": 11,
     "metadata": {},
     "output_type": "execute_result"
    }
   ],
   "source": [
    "df.shape"
   ]
  },
  {
   "cell_type": "markdown",
   "metadata": {},
   "source": [
    "Removing Null Values"
   ]
  },
  {
   "cell_type": "code",
   "execution_count": 12,
   "metadata": {},
   "outputs": [
    {
     "data": {
      "text/plain": [
       "raw_character_text    17814\n",
       "spoken_words          26459\n",
       "dtype: int64"
      ]
     },
     "execution_count": 12,
     "metadata": {},
     "output_type": "execute_result"
    }
   ],
   "source": [
    "df.isnull().sum()"
   ]
  },
  {
   "cell_type": "code",
   "execution_count": 13,
   "metadata": {},
   "outputs": [],
   "source": [
    "df.dropna(inplace=True)"
   ]
  },
  {
   "cell_type": "code",
   "execution_count": 14,
   "metadata": {},
   "outputs": [
    {
     "data": {
      "text/plain": [
       "raw_character_text    0\n",
       "spoken_words          0\n",
       "dtype: int64"
      ]
     },
     "execution_count": 14,
     "metadata": {},
     "output_type": "execute_result"
    }
   ],
   "source": [
    "df.isnull().sum()"
   ]
  },
  {
   "cell_type": "code",
   "execution_count": 15,
   "metadata": {},
   "outputs": [
    {
     "data": {
      "text/html": [
       "<div>\n",
       "<style scoped>\n",
       "    .dataframe tbody tr th:only-of-type {\n",
       "        vertical-align: middle;\n",
       "    }\n",
       "\n",
       "    .dataframe tbody tr th {\n",
       "        vertical-align: top;\n",
       "    }\n",
       "\n",
       "    .dataframe thead th {\n",
       "        text-align: right;\n",
       "    }\n",
       "</style>\n",
       "<table border=\"1\" class=\"dataframe\">\n",
       "  <thead>\n",
       "    <tr style=\"text-align: right;\">\n",
       "      <th></th>\n",
       "      <th>raw_character_text</th>\n",
       "      <th>spoken_words</th>\n",
       "    </tr>\n",
       "  </thead>\n",
       "  <tbody>\n",
       "    <tr>\n",
       "      <th>0</th>\n",
       "      <td>Miss Hoover</td>\n",
       "      <td>No, actually, it was a little of both. Sometim...</td>\n",
       "    </tr>\n",
       "    <tr>\n",
       "      <th>1</th>\n",
       "      <td>Lisa Simpson</td>\n",
       "      <td>Where's Mr. Bergstrom?</td>\n",
       "    </tr>\n",
       "    <tr>\n",
       "      <th>2</th>\n",
       "      <td>Miss Hoover</td>\n",
       "      <td>I don't know. Although I'd sure like to talk t...</td>\n",
       "    </tr>\n",
       "    <tr>\n",
       "      <th>3</th>\n",
       "      <td>Lisa Simpson</td>\n",
       "      <td>That life is worth living.</td>\n",
       "    </tr>\n",
       "    <tr>\n",
       "      <th>4</th>\n",
       "      <td>Edna Krabappel-Flanders</td>\n",
       "      <td>The polls will be open from now until the end ...</td>\n",
       "    </tr>\n",
       "    <tr>\n",
       "      <th>...</th>\n",
       "      <td>...</td>\n",
       "      <td>...</td>\n",
       "    </tr>\n",
       "    <tr>\n",
       "      <th>131848</th>\n",
       "      <td>Miss Hoover</td>\n",
       "      <td>I'm back.</td>\n",
       "    </tr>\n",
       "    <tr>\n",
       "      <th>131849</th>\n",
       "      <td>Miss Hoover</td>\n",
       "      <td>You see, class, my Lyme disease turned out to ...</td>\n",
       "    </tr>\n",
       "    <tr>\n",
       "      <th>131850</th>\n",
       "      <td>Miss Hoover</td>\n",
       "      <td>Psy-cho-so-ma-tic.</td>\n",
       "    </tr>\n",
       "    <tr>\n",
       "      <th>131851</th>\n",
       "      <td>Ralph Wiggum</td>\n",
       "      <td>Does that mean you were crazy?</td>\n",
       "    </tr>\n",
       "    <tr>\n",
       "      <th>131852</th>\n",
       "      <td>JANEY</td>\n",
       "      <td>No, that means she was faking it.</td>\n",
       "    </tr>\n",
       "  </tbody>\n",
       "</table>\n",
       "<p>131853 rows × 2 columns</p>\n",
       "</div>"
      ],
      "text/plain": [
       "             raw_character_text   \n",
       "0                   Miss Hoover  \\\n",
       "1                  Lisa Simpson   \n",
       "2                   Miss Hoover   \n",
       "3                  Lisa Simpson   \n",
       "4       Edna Krabappel-Flanders   \n",
       "...                         ...   \n",
       "131848              Miss Hoover   \n",
       "131849              Miss Hoover   \n",
       "131850              Miss Hoover   \n",
       "131851             Ralph Wiggum   \n",
       "131852                    JANEY   \n",
       "\n",
       "                                             spoken_words  \n",
       "0       No, actually, it was a little of both. Sometim...  \n",
       "1                                  Where's Mr. Bergstrom?  \n",
       "2       I don't know. Although I'd sure like to talk t...  \n",
       "3                              That life is worth living.  \n",
       "4       The polls will be open from now until the end ...  \n",
       "...                                                   ...  \n",
       "131848                                          I'm back.  \n",
       "131849  You see, class, my Lyme disease turned out to ...  \n",
       "131850                                 Psy-cho-so-ma-tic.  \n",
       "131851                     Does that mean you were crazy?  \n",
       "131852                  No, that means she was faking it.  \n",
       "\n",
       "[131853 rows x 2 columns]"
      ]
     },
     "execution_count": 15,
     "metadata": {},
     "output_type": "execute_result"
    }
   ],
   "source": [
    "df.reset_index(drop=True)"
   ]
  },
  {
   "cell_type": "markdown",
   "metadata": {},
   "source": [
    "Data Cleaning"
   ]
  },
  {
   "cell_type": "code",
   "execution_count": 2,
   "metadata": {},
   "outputs": [
    {
     "name": "stdout",
     "output_type": "stream",
     "text": [
      "Collecting en-core-web-sm==3.7.1\n",
      "  Using cached https://github.com/explosion/spacy-models/releases/download/en_core_web_sm-3.7.1/en_core_web_sm-3.7.1-py3-none-any.whl (12.8 MB)\n",
      "Requirement already satisfied: spacy<3.8.0,>=3.7.2 in c:\\users\\klper\\appdata\\local\\programs\\python\\python310\\lib\\site-packages (from en-core-web-sm==3.7.1) (3.7.5)\n",
      "Requirement already satisfied: spacy-legacy<3.1.0,>=3.0.11 in c:\\users\\klper\\appdata\\local\\programs\\python\\python310\\lib\\site-packages (from spacy<3.8.0,>=3.7.2->en-core-web-sm==3.7.1) (3.0.12)\n",
      "Requirement already satisfied: spacy-loggers<2.0.0,>=1.0.0 in c:\\users\\klper\\appdata\\local\\programs\\python\\python310\\lib\\site-packages (from spacy<3.8.0,>=3.7.2->en-core-web-sm==3.7.1) (1.0.5)\n",
      "Requirement already satisfied: murmurhash<1.1.0,>=0.28.0 in c:\\users\\klper\\appdata\\local\\programs\\python\\python310\\lib\\site-packages (from spacy<3.8.0,>=3.7.2->en-core-web-sm==3.7.1) (1.0.10)\n",
      "Requirement already satisfied: cymem<2.1.0,>=2.0.2 in c:\\users\\klper\\appdata\\local\\programs\\python\\python310\\lib\\site-packages (from spacy<3.8.0,>=3.7.2->en-core-web-sm==3.7.1) (2.0.8)\n",
      "Requirement already satisfied: preshed<3.1.0,>=3.0.2 in c:\\users\\klper\\appdata\\local\\programs\\python\\python310\\lib\\site-packages (from spacy<3.8.0,>=3.7.2->en-core-web-sm==3.7.1) (3.0.9)\n",
      "Requirement already satisfied: thinc<8.3.0,>=8.2.2 in c:\\users\\klper\\appdata\\local\\programs\\python\\python310\\lib\\site-packages (from spacy<3.8.0,>=3.7.2->en-core-web-sm==3.7.1) (8.2.4)\n",
      "Requirement already satisfied: wasabi<1.2.0,>=0.9.1 in c:\\users\\klper\\appdata\\local\\programs\\python\\python310\\lib\\site-packages (from spacy<3.8.0,>=3.7.2->en-core-web-sm==3.7.1) (1.1.3)\n",
      "Requirement already satisfied: srsly<3.0.0,>=2.4.3 in c:\\users\\klper\\appdata\\local\\programs\\python\\python310\\lib\\site-packages (from spacy<3.8.0,>=3.7.2->en-core-web-sm==3.7.1) (2.4.8)\n",
      "Requirement already satisfied: catalogue<2.1.0,>=2.0.6 in c:\\users\\klper\\appdata\\local\\programs\\python\\python310\\lib\\site-packages (from spacy<3.8.0,>=3.7.2->en-core-web-sm==3.7.1) (2.0.10)\n",
      "Requirement already satisfied: weasel<0.5.0,>=0.1.0 in c:\\users\\klper\\appdata\\local\\programs\\python\\python310\\lib\\site-packages (from spacy<3.8.0,>=3.7.2->en-core-web-sm==3.7.1) (0.4.1)\n",
      "Requirement already satisfied: typer<1.0.0,>=0.3.0 in c:\\users\\klper\\appdata\\local\\programs\\python\\python310\\lib\\site-packages (from spacy<3.8.0,>=3.7.2->en-core-web-sm==3.7.1) (0.12.3)\n",
      "Requirement already satisfied: tqdm<5.0.0,>=4.38.0 in c:\\users\\klper\\appdata\\local\\programs\\python\\python310\\lib\\site-packages (from spacy<3.8.0,>=3.7.2->en-core-web-sm==3.7.1) (4.66.1)\n",
      "Requirement already satisfied: requests<3.0.0,>=2.13.0 in c:\\users\\klper\\appdata\\local\\programs\\python\\python310\\lib\\site-packages (from spacy<3.8.0,>=3.7.2->en-core-web-sm==3.7.1) (2.31.0)\n",
      "Requirement already satisfied: pydantic!=1.8,!=1.8.1,<3.0.0,>=1.7.4 in c:\\users\\klper\\appdata\\local\\programs\\python\\python310\\lib\\site-packages (from spacy<3.8.0,>=3.7.2->en-core-web-sm==3.7.1) (2.5.3)\n",
      "Requirement already satisfied: jinja2 in c:\\users\\klper\\appdata\\local\\programs\\python\\python310\\lib\\site-packages (from spacy<3.8.0,>=3.7.2->en-core-web-sm==3.7.1) (3.1.2)\n",
      "Requirement already satisfied: setuptools in c:\\users\\klper\\appdata\\local\\programs\\python\\python310\\lib\\site-packages (from spacy<3.8.0,>=3.7.2->en-core-web-sm==3.7.1) (58.1.0)\n",
      "Requirement already satisfied: packaging>=20.0 in c:\\users\\klper\\appdata\\local\\programs\\python\\python310\\lib\\site-packages (from spacy<3.8.0,>=3.7.2->en-core-web-sm==3.7.1) (23.2)\n",
      "Requirement already satisfied: langcodes<4.0.0,>=3.2.0 in c:\\users\\klper\\appdata\\local\\programs\\python\\python310\\lib\\site-packages (from spacy<3.8.0,>=3.7.2->en-core-web-sm==3.7.1) (3.4.0)\n",
      "Requirement already satisfied: numpy>=1.19.0 in c:\\users\\klper\\appdata\\local\\programs\\python\\python310\\lib\\site-packages (from spacy<3.8.0,>=3.7.2->en-core-web-sm==3.7.1) (1.24.2)\n",
      "Requirement already satisfied: language-data>=1.2 in c:\\users\\klper\\appdata\\local\\programs\\python\\python310\\lib\\site-packages (from langcodes<4.0.0,>=3.2.0->spacy<3.8.0,>=3.7.2->en-core-web-sm==3.7.1) (1.2.0)\n",
      "Requirement already satisfied: annotated-types>=0.4.0 in c:\\users\\klper\\appdata\\local\\programs\\python\\python310\\lib\\site-packages (from pydantic!=1.8,!=1.8.1,<3.0.0,>=1.7.4->spacy<3.8.0,>=3.7.2->en-core-web-sm==3.7.1) (0.6.0)\n",
      "Requirement already satisfied: pydantic-core==2.14.6 in c:\\users\\klper\\appdata\\local\\programs\\python\\python310\\lib\\site-packages (from pydantic!=1.8,!=1.8.1,<3.0.0,>=1.7.4->spacy<3.8.0,>=3.7.2->en-core-web-sm==3.7.1) (2.14.6)\n",
      "Requirement already satisfied: typing-extensions>=4.6.1 in c:\\users\\klper\\appdata\\local\\programs\\python\\python310\\lib\\site-packages (from pydantic!=1.8,!=1.8.1,<3.0.0,>=1.7.4->spacy<3.8.0,>=3.7.2->en-core-web-sm==3.7.1) (4.9.0)\n",
      "Requirement already satisfied: charset-normalizer<4,>=2 in c:\\users\\klper\\appdata\\local\\programs\\python\\python310\\lib\\site-packages (from requests<3.0.0,>=2.13.0->spacy<3.8.0,>=3.7.2->en-core-web-sm==3.7.1) (3.1.0)\n",
      "Requirement already satisfied: idna<4,>=2.5 in c:\\users\\klper\\appdata\\local\\programs\\python\\python310\\lib\\site-packages (from requests<3.0.0,>=2.13.0->spacy<3.8.0,>=3.7.2->en-core-web-sm==3.7.1) (3.4)\n",
      "Requirement already satisfied: urllib3<3,>=1.21.1 in c:\\users\\klper\\appdata\\local\\programs\\python\\python310\\lib\\site-packages (from requests<3.0.0,>=2.13.0->spacy<3.8.0,>=3.7.2->en-core-web-sm==3.7.1) (2.0.2)\n",
      "Requirement already satisfied: certifi>=2017.4.17 in c:\\users\\klper\\appdata\\local\\programs\\python\\python310\\lib\\site-packages (from requests<3.0.0,>=2.13.0->spacy<3.8.0,>=3.7.2->en-core-web-sm==3.7.1) (2024.2.2)\n",
      "Requirement already satisfied: blis<0.8.0,>=0.7.8 in c:\\users\\klper\\appdata\\local\\programs\\python\\python310\\lib\\site-packages (from thinc<8.3.0,>=8.2.2->spacy<3.8.0,>=3.7.2->en-core-web-sm==3.7.1) (0.7.11)\n",
      "Requirement already satisfied: confection<1.0.0,>=0.0.1 in c:\\users\\klper\\appdata\\local\\programs\\python\\python310\\lib\\site-packages (from thinc<8.3.0,>=8.2.2->spacy<3.8.0,>=3.7.2->en-core-web-sm==3.7.1) (0.1.5)\n",
      "Requirement already satisfied: colorama in c:\\users\\klper\\appdata\\local\\programs\\python\\python310\\lib\\site-packages (from tqdm<5.0.0,>=4.38.0->spacy<3.8.0,>=3.7.2->en-core-web-sm==3.7.1) (0.4.6)\n",
      "Requirement already satisfied: click>=8.0.0 in c:\\users\\klper\\appdata\\local\\programs\\python\\python310\\lib\\site-packages (from typer<1.0.0,>=0.3.0->spacy<3.8.0,>=3.7.2->en-core-web-sm==3.7.1) (8.1.3)\n",
      "Requirement already satisfied: shellingham>=1.3.0 in c:\\users\\klper\\appdata\\local\\programs\\python\\python310\\lib\\site-packages (from typer<1.0.0,>=0.3.0->spacy<3.8.0,>=3.7.2->en-core-web-sm==3.7.1) (1.5.4)\n",
      "Requirement already satisfied: rich>=10.11.0 in c:\\users\\klper\\appdata\\local\\programs\\python\\python310\\lib\\site-packages (from typer<1.0.0,>=0.3.0->spacy<3.8.0,>=3.7.2->en-core-web-sm==3.7.1) (13.7.0)\n",
      "Requirement already satisfied: cloudpathlib<1.0.0,>=0.7.0 in c:\\users\\klper\\appdata\\local\\programs\\python\\python310\\lib\\site-packages (from weasel<0.5.0,>=0.1.0->spacy<3.8.0,>=3.7.2->en-core-web-sm==3.7.1) (0.18.1)\n",
      "Requirement already satisfied: smart-open<8.0.0,>=5.2.1 in c:\\users\\klper\\appdata\\local\\programs\\python\\python310\\lib\\site-packages (from weasel<0.5.0,>=0.1.0->spacy<3.8.0,>=3.7.2->en-core-web-sm==3.7.1) (7.0.4)\n",
      "Requirement already satisfied: MarkupSafe>=2.0 in c:\\users\\klper\\appdata\\local\\programs\\python\\python310\\lib\\site-packages (from jinja2->spacy<3.8.0,>=3.7.2->en-core-web-sm==3.7.1) (2.1.2)\n",
      "Requirement already satisfied: marisa-trie>=0.7.7 in c:\\users\\klper\\appdata\\local\\programs\\python\\python310\\lib\\site-packages (from language-data>=1.2->langcodes<4.0.0,>=3.2.0->spacy<3.8.0,>=3.7.2->en-core-web-sm==3.7.1) (1.2.0)\n",
      "Requirement already satisfied: markdown-it-py>=2.2.0 in c:\\users\\klper\\appdata\\local\\programs\\python\\python310\\lib\\site-packages (from rich>=10.11.0->typer<1.0.0,>=0.3.0->spacy<3.8.0,>=3.7.2->en-core-web-sm==3.7.1) (3.0.0)\n",
      "Requirement already satisfied: pygments<3.0.0,>=2.13.0 in c:\\users\\klper\\appdata\\local\\programs\\python\\python310\\lib\\site-packages (from rich>=10.11.0->typer<1.0.0,>=0.3.0->spacy<3.8.0,>=3.7.2->en-core-web-sm==3.7.1) (2.15.1)\n",
      "Requirement already satisfied: wrapt in c:\\users\\klper\\appdata\\local\\programs\\python\\python310\\lib\\site-packages (from smart-open<8.0.0,>=5.2.1->weasel<0.5.0,>=0.1.0->spacy<3.8.0,>=3.7.2->en-core-web-sm==3.7.1) (1.14.1)\n",
      "Requirement already satisfied: mdurl~=0.1 in c:\\users\\klper\\appdata\\local\\programs\\python\\python310\\lib\\site-packages (from markdown-it-py>=2.2.0->rich>=10.11.0->typer<1.0.0,>=0.3.0->spacy<3.8.0,>=3.7.2->en-core-web-sm==3.7.1) (0.1.2)\n",
      "\u001b[38;5;2m✔ Download and installation successful\u001b[0m\n",
      "You can now load the package via spacy.load('en_core_web_sm')\n"
     ]
    },
    {
     "name": "stderr",
     "output_type": "stream",
     "text": [
      "WARNING: Ignoring invalid distribution -treamlit (c:\\users\\klper\\appdata\\local\\programs\\python\\python310\\lib\\site-packages)\n",
      "WARNING: Ignoring invalid distribution -treamlit (c:\\users\\klper\\appdata\\local\\programs\\python\\python310\\lib\\site-packages)\n"
     ]
    }
   ],
   "source": [
    "!python -m spacy download en_core_web_sm"
   ]
  },
  {
   "cell_type": "code",
   "execution_count": 16,
   "metadata": {},
   "outputs": [],
   "source": [
    "nlp= spacy.load('en_core_web_sm', disable=['ner', 'parser'])\n",
    "# disabling Named Entity Recognition for speed\n",
    "\n",
    "def cleaning(doc):\n",
    "    # Lemmatizes and removes stopwords\n",
    "    txt= [token.lemma_ for token in doc if not token.is_stop]\n",
    "    n= len(txt)\n",
    "    if (n>2):\n",
    "        return ' '.join(txt)"
   ]
  },
  {
   "cell_type": "markdown",
   "metadata": {},
   "source": [
    "Word2Vec uses context words to learn the vector representation of a target word, if a sentence is only one or two words long,the benefit for the training is very small."
   ]
  },
  {
   "cell_type": "code",
   "execution_count": 75,
   "metadata": {},
   "outputs": [],
   "source": [
    "# Remove non alphabetic chars\n",
    "def clean_text(row):\n",
    "    cleaned_row = re.sub(\"[^A-Za-z']+\", ' ', str(row))\n",
    "    cleaned_row = cleaned_row.lower()\n",
    "    return cleaned_row\n",
    "\n",
    "# Apply the cleaning function to each row in the 'spoken_words' column\n",
    "brief_cleaning = (clean_text(row) for row in df['spoken_words'])"
   ]
  },
  {
   "cell_type": "code",
   "execution_count": 19,
   "metadata": {},
   "outputs": [
    {
     "name": "stdout",
     "output_type": "stream",
     "text": [
      "Time needed to clean up: 1.96 mins\n"
     ]
    }
   ],
   "source": [
    "# Speed up using pipelines\n",
    "t= time()\n",
    "txt= [cleaning(doc) for doc in nlp.pipe(brief_cleaning, batch_size=5000, n_process=-1)]\n",
    "print('Time needed to clean up: {} mins'.format(round((time()-t)/60, 2)))\n"
   ]
  },
  {
   "cell_type": "code",
   "execution_count": 20,
   "metadata": {},
   "outputs": [
    {
     "data": {
      "text/plain": [
       "(85955, 1)"
      ]
     },
     "execution_count": 20,
     "metadata": {},
     "output_type": "execute_result"
    }
   ],
   "source": [
    "df_clean= pd.DataFrame({'clean': txt})\n",
    "df_clean= df_clean.dropna().drop_duplicates()\n",
    "df_clean.shape"
   ]
  },
  {
   "cell_type": "markdown",
   "metadata": {},
   "source": [
    "Bigrams"
   ]
  },
  {
   "cell_type": "code",
   "execution_count": 21,
   "metadata": {},
   "outputs": [],
   "source": [
    "# Gensim Phrases packages automatically detects the common phrases (bigrams) from a list of sentences.\n",
    "from gensim.models.phrases import Phrases, Phraser"
   ]
  },
  {
   "cell_type": "code",
   "execution_count": 22,
   "metadata": {},
   "outputs": [],
   "source": [
    "sent= [row.split() for row in df_clean['clean']]"
   ]
  },
  {
   "cell_type": "code",
   "execution_count": 23,
   "metadata": {},
   "outputs": [
    {
     "name": "stderr",
     "output_type": "stream",
     "text": [
      "INFO - 09:42:05: collecting all words and their counts\n",
      "INFO - 09:42:05: PROGRESS: at sentence #0, processed 0 words and 0 word types\n",
      "INFO - 09:42:05: PROGRESS: at sentence #10000, processed 63557 words and 52713 word types\n",
      "INFO - 09:42:05: PROGRESS: at sentence #20000, processed 130936 words and 99584 word types\n",
      "INFO - 09:42:05: PROGRESS: at sentence #30000, processed 192961 words and 138126 word types\n",
      "INFO - 09:42:06: PROGRESS: at sentence #40000, processed 249832 words and 172082 word types\n",
      "INFO - 09:42:06: PROGRESS: at sentence #50000, processed 311269 words and 207841 word types\n",
      "INFO - 09:42:06: PROGRESS: at sentence #60000, processed 373578 words and 242828 word types\n",
      "INFO - 09:42:06: PROGRESS: at sentence #70000, processed 436424 words and 277715 word types\n",
      "INFO - 09:42:06: PROGRESS: at sentence #80000, processed 497887 words and 310783 word types\n",
      "INFO - 09:42:06: collected 329494 token types (unigram + bigrams) from a corpus of 537095 words and 85955 sentences\n",
      "INFO - 09:42:06: merged Phrases<329494 vocab, min_count=30, threshold=10.0, max_vocab_size=40000000>\n",
      "INFO - 09:42:06: Phrases lifecycle event {'msg': 'built Phrases<329494 vocab, min_count=30, threshold=10.0, max_vocab_size=40000000> in 0.49s', 'datetime': '2024-06-11T09:42:06.317282', 'gensim': '4.3.2', 'python': '3.10.4 (tags/v3.10.4:9d38120, Mar 23 2022, 23:13:41) [MSC v.1929 64 bit (AMD64)]', 'platform': 'Windows-10-10.0.22631-SP0', 'event': 'created'}\n"
     ]
    }
   ],
   "source": [
    "# Phrases takes list of words as input and creates relevant phrases from the list of sentence\n",
    "phrases= Phrases(sent, min_count=30, progress_per=10000)"
   ]
  },
  {
   "cell_type": "markdown",
   "metadata": {},
   "source": [
    "The goal of Phraser() is to cut down memory consumption of Phrases(), by discarding model state not strictly needed for the bigram detection task"
   ]
  },
  {
   "cell_type": "code",
   "execution_count": 24,
   "metadata": {},
   "outputs": [
    {
     "name": "stderr",
     "output_type": "stream",
     "text": [
      "INFO - 09:42:50: exporting phrases from Phrases<329494 vocab, min_count=30, threshold=10.0, max_vocab_size=40000000>\n",
      "INFO - 09:42:51: FrozenPhrases lifecycle event {'msg': 'exported FrozenPhrases<128 phrases, min_count=30, threshold=10.0> from Phrases<329494 vocab, min_count=30, threshold=10.0, max_vocab_size=40000000> in 0.46s', 'datetime': '2024-06-11T09:42:51.287378', 'gensim': '4.3.2', 'python': '3.10.4 (tags/v3.10.4:9d38120, Mar 23 2022, 23:13:41) [MSC v.1929 64 bit (AMD64)]', 'platform': 'Windows-10-10.0.22631-SP0', 'event': 'created'}\n"
     ]
    }
   ],
   "source": [
    "bigram= Phraser(phrases)"
   ]
  },
  {
   "cell_type": "code",
   "execution_count": 25,
   "metadata": {},
   "outputs": [],
   "source": [
    "sentences= bigram[sent]"
   ]
  },
  {
   "cell_type": "markdown",
   "metadata": {},
   "source": [
    "Checking the most frequent words"
   ]
  },
  {
   "cell_type": "code",
   "execution_count": 26,
   "metadata": {},
   "outputs": [
    {
     "data": {
      "text/plain": [
       "29694"
      ]
     },
     "execution_count": 26,
     "metadata": {},
     "output_type": "execute_result"
    }
   ],
   "source": [
    "word_freq= defaultdict(int)\n",
    "for sent in sentences:\n",
    "    for i in sent:\n",
    "        word_freq[i]+= 1\n",
    "len(word_freq)"
   ]
  },
  {
   "cell_type": "code",
   "execution_count": 30,
   "metadata": {},
   "outputs": [
    {
     "data": {
      "text/plain": [
       "['oh',\n",
       " 'like',\n",
       " 'know',\n",
       " 'get',\n",
       " 'hey',\n",
       " 'think',\n",
       " 'come',\n",
       " 'right',\n",
       " 'look',\n",
       " 'want',\n",
       " 'homer',\n",
       " 'good',\n",
       " 'let',\n",
       " \"'\",\n",
       " 'go',\n",
       " 'bart',\n",
       " 'time',\n",
       " 'go_to',\n",
       " 'man',\n",
       " 'uh']"
      ]
     },
     "execution_count": 30,
     "metadata": {},
     "output_type": "execute_result"
    }
   ],
   "source": [
    "sorted(word_freq, key=word_freq.get, reverse=True)[0:20]\n",
    "# 20 most freq words"
   ]
  },
  {
   "cell_type": "markdown",
   "metadata": {},
   "source": [
    "Model Training"
   ]
  },
  {
   "cell_type": "code",
   "execution_count": 32,
   "metadata": {},
   "outputs": [],
   "source": [
    "from gensim.models import Word2Vec\n",
    "import multiprocessing"
   ]
  },
  {
   "cell_type": "code",
   "execution_count": 34,
   "metadata": {},
   "outputs": [
    {
     "data": {
      "text/plain": [
       "16"
      ]
     },
     "execution_count": 34,
     "metadata": {},
     "output_type": "execute_result"
    }
   ],
   "source": [
    "cores= multiprocessing.cpu_count()\n",
    "cores"
   ]
  },
  {
   "cell_type": "code",
   "execution_count": 76,
   "metadata": {},
   "outputs": [
    {
     "name": "stderr",
     "output_type": "stream",
     "text": [
      "INFO - 10:33:53: Word2Vec lifecycle event {'params': 'Word2Vec<vocab=0, vector_size=100, alpha=0.03>', 'datetime': '2024-06-11T10:33:53.256068', 'gensim': '4.3.2', 'python': '3.10.4 (tags/v3.10.4:9d38120, Mar 23 2022, 23:13:41) [MSC v.1929 64 bit (AMD64)]', 'platform': 'Windows-10-10.0.22631-SP0', 'event': 'created'}\n"
     ]
    }
   ],
   "source": [
    "w2v_model= Word2Vec(min_count=20, window=2, sample=6e-5, alpha=0.03, \n",
    "                     min_alpha=0.0007, negative=20, workers=cores-1)"
   ]
  },
  {
   "cell_type": "markdown",
   "metadata": {},
   "source": [
    "Buliding Vocabulary"
   ]
  },
  {
   "cell_type": "code",
   "execution_count": 38,
   "metadata": {},
   "outputs": [
    {
     "name": "stderr",
     "output_type": "stream",
     "text": [
      "INFO - 09:55:11: collecting all words and their counts\n",
      "INFO - 09:55:11: PROGRESS: at sentence #0, processed 0 words, keeping 0 word types\n",
      "INFO - 09:55:12: PROGRESS: at sentence #10000, processed 61697 words, keeping 9516 word types\n",
      "INFO - 09:55:12: PROGRESS: at sentence #20000, processed 127312 words, keeping 14382 word types\n",
      "INFO - 09:55:12: PROGRESS: at sentence #30000, processed 187772 words, keeping 17441 word types\n",
      "INFO - 09:55:12: PROGRESS: at sentence #40000, processed 243265 words, keeping 20120 word types\n",
      "INFO - 09:55:12: PROGRESS: at sentence #50000, processed 303120 words, keeping 22550 word types\n",
      "INFO - 09:55:12: PROGRESS: at sentence #60000, processed 363858 words, keeping 24819 word types\n",
      "INFO - 09:55:12: PROGRESS: at sentence #70000, processed 425311 words, keeping 26987 word types\n",
      "INFO - 09:55:12: PROGRESS: at sentence #80000, processed 485433 words, keeping 28822 word types\n",
      "INFO - 09:55:12: collected 29694 word types from a corpus of 523538 raw words and 85955 sentences\n",
      "INFO - 09:55:12: Creating a fresh vocabulary\n",
      "INFO - 09:55:12: Word2Vec lifecycle event {'msg': 'effective_min_count=20 retains 3324 unique words (11.19% of original 29694, drops 26370)', 'datetime': '2024-06-11T09:55:12.473248', 'gensim': '4.3.2', 'python': '3.10.4 (tags/v3.10.4:9d38120, Mar 23 2022, 23:13:41) [MSC v.1929 64 bit (AMD64)]', 'platform': 'Windows-10-10.0.22631-SP0', 'event': 'prepare_vocab'}\n",
      "INFO - 09:55:12: Word2Vec lifecycle event {'msg': 'effective_min_count=20 leaves 438021 word corpus (83.67% of original 523538, drops 85517)', 'datetime': '2024-06-11T09:55:12.473248', 'gensim': '4.3.2', 'python': '3.10.4 (tags/v3.10.4:9d38120, Mar 23 2022, 23:13:41) [MSC v.1929 64 bit (AMD64)]', 'platform': 'Windows-10-10.0.22631-SP0', 'event': 'prepare_vocab'}\n",
      "INFO - 09:55:12: deleting the raw counts dictionary of 29694 items\n",
      "INFO - 09:55:12: sample=6e-05 downsamples 1197 most-common words\n",
      "INFO - 09:55:12: Word2Vec lifecycle event {'msg': 'downsampling leaves estimated 199343.36670965044 word corpus (45.5%% of prior 438021)', 'datetime': '2024-06-11T09:55:12.499635', 'gensim': '4.3.2', 'python': '3.10.4 (tags/v3.10.4:9d38120, Mar 23 2022, 23:13:41) [MSC v.1929 64 bit (AMD64)]', 'platform': 'Windows-10-10.0.22631-SP0', 'event': 'prepare_vocab'}\n",
      "WARNING - 09:55:12: sorting after vectors have been allocated is expensive & error-prone\n",
      "INFO - 09:55:12: estimated required memory for 3324 words and 100 dimensions: 4321200 bytes\n",
      "INFO - 09:55:12: resetting layer weights\n",
      "INFO - 09:55:12: Word2Vec lifecycle event {'update': False, 'trim_rule': 'None', 'datetime': '2024-06-11T09:55:12.522061', 'gensim': '4.3.2', 'python': '3.10.4 (tags/v3.10.4:9d38120, Mar 23 2022, 23:13:41) [MSC v.1929 64 bit (AMD64)]', 'platform': 'Windows-10-10.0.22631-SP0', 'event': 'build_vocab'}\n"
     ]
    },
    {
     "name": "stdout",
     "output_type": "stream",
     "text": [
      "\n",
      "Time taken to build vocab: 0.01 mins\n"
     ]
    }
   ],
   "source": [
    "# Vocabulary tree is used for digesting all the words and filtering out the unique words\n",
    "t = time()\n",
    "w2v_model.build_vocab(sentences, progress_per=10000)\n",
    "\n",
    "print()\n",
    "print('Time taken to build vocab: {} mins'.format(round((time()-t)/60, 2)))"
   ]
  },
  {
   "cell_type": "code",
   "execution_count": 40,
   "metadata": {},
   "outputs": [
    {
     "name": "stderr",
     "output_type": "stream",
     "text": [
      "WARNING - 09:56:33: Effective 'alpha' higher than previous training cycles\n",
      "INFO - 09:56:33: Word2Vec lifecycle event {'msg': 'training model with 15 workers on 3324 vocabulary and 100 features, using sg=0 hs=0 sample=6e-05 negative=20 window=2 shrink_windows=True', 'datetime': '2024-06-11T09:56:33.331278', 'gensim': '4.3.2', 'python': '3.10.4 (tags/v3.10.4:9d38120, Mar 23 2022, 23:13:41) [MSC v.1929 64 bit (AMD64)]', 'platform': 'Windows-10-10.0.22631-SP0', 'event': 'train'}\n",
      "INFO - 09:56:33: EPOCH 0: training on 523538 raw words (199114 effective words) took 0.6s, 318144 effective words/s\n",
      "INFO - 09:56:34: EPOCH 1: training on 523538 raw words (198952 effective words) took 0.6s, 329871 effective words/s\n",
      "INFO - 09:56:35: EPOCH 2: training on 523538 raw words (199024 effective words) took 0.6s, 317057 effective words/s\n",
      "INFO - 09:56:35: EPOCH 3: training on 523538 raw words (199621 effective words) took 0.5s, 388563 effective words/s\n",
      "INFO - 09:56:36: EPOCH 4: training on 523538 raw words (198865 effective words) took 0.7s, 300422 effective words/s\n",
      "INFO - 09:56:37: EPOCH 5: training on 523538 raw words (199486 effective words) took 0.6s, 318939 effective words/s\n",
      "INFO - 09:56:37: EPOCH 6: training on 523538 raw words (199264 effective words) took 0.7s, 300278 effective words/s\n",
      "INFO - 09:56:38: EPOCH 7: training on 523538 raw words (199695 effective words) took 0.6s, 334462 effective words/s\n",
      "INFO - 09:56:39: EPOCH 8: training on 523538 raw words (199473 effective words) took 0.6s, 323635 effective words/s\n",
      "INFO - 09:56:39: EPOCH 9: training on 523538 raw words (199567 effective words) took 0.6s, 321521 effective words/s\n",
      "INFO - 09:56:40: EPOCH 10: training on 523538 raw words (199275 effective words) took 0.6s, 353516 effective words/s\n",
      "INFO - 09:56:40: EPOCH 11: training on 523538 raw words (198992 effective words) took 0.5s, 362004 effective words/s\n",
      "INFO - 09:56:41: EPOCH 12: training on 523538 raw words (199590 effective words) took 0.7s, 294377 effective words/s\n",
      "INFO - 09:56:42: EPOCH 13: training on 523538 raw words (199518 effective words) took 0.6s, 344036 effective words/s\n",
      "INFO - 09:56:42: EPOCH 14: training on 523538 raw words (199305 effective words) took 0.6s, 315356 effective words/s\n",
      "INFO - 09:56:43: EPOCH 15: training on 523538 raw words (199559 effective words) took 0.6s, 313050 effective words/s\n",
      "INFO - 09:56:43: EPOCH 16: training on 523538 raw words (199050 effective words) took 0.5s, 410905 effective words/s\n",
      "INFO - 09:56:44: EPOCH 17: training on 523538 raw words (199423 effective words) took 0.6s, 357011 effective words/s\n",
      "INFO - 09:56:45: EPOCH 18: training on 523538 raw words (199338 effective words) took 0.6s, 349141 effective words/s\n",
      "INFO - 09:56:45: EPOCH 19: training on 523538 raw words (199346 effective words) took 0.6s, 322022 effective words/s\n",
      "INFO - 09:56:46: EPOCH 20: training on 523538 raw words (199460 effective words) took 0.6s, 313881 effective words/s\n",
      "INFO - 09:56:47: EPOCH 21: training on 523538 raw words (199419 effective words) took 0.6s, 324215 effective words/s\n",
      "INFO - 09:56:47: EPOCH 22: training on 523538 raw words (199262 effective words) took 0.6s, 350336 effective words/s\n",
      "INFO - 09:56:48: EPOCH 23: training on 523538 raw words (199321 effective words) took 0.5s, 385962 effective words/s\n",
      "INFO - 09:56:48: EPOCH 24: training on 523538 raw words (199516 effective words) took 0.6s, 337705 effective words/s\n",
      "INFO - 09:56:49: EPOCH 25: training on 523538 raw words (199850 effective words) took 0.6s, 343119 effective words/s\n",
      "INFO - 09:56:49: EPOCH 26: training on 523538 raw words (198811 effective words) took 0.5s, 364016 effective words/s\n",
      "INFO - 09:56:50: EPOCH 27: training on 523538 raw words (199294 effective words) took 0.6s, 346345 effective words/s\n",
      "INFO - 09:56:51: EPOCH 28: training on 523538 raw words (198988 effective words) took 0.7s, 295110 effective words/s\n",
      "INFO - 09:56:51: EPOCH 29: training on 523538 raw words (199144 effective words) took 0.5s, 430607 effective words/s\n",
      "INFO - 09:56:52: EPOCH 30: training on 523538 raw words (199035 effective words) took 0.5s, 381952 effective words/s\n",
      "INFO - 09:56:52: EPOCH 31: training on 523538 raw words (199092 effective words) took 0.5s, 365916 effective words/s\n",
      "INFO - 09:56:53: EPOCH 32: training on 523538 raw words (199461 effective words) took 0.6s, 337453 effective words/s\n",
      "INFO - 09:56:54: EPOCH 33: training on 523538 raw words (199667 effective words) took 0.6s, 308914 effective words/s\n",
      "INFO - 09:56:54: EPOCH 34: training on 523538 raw words (199351 effective words) took 0.6s, 328481 effective words/s\n",
      "INFO - 09:56:55: EPOCH 35: training on 523538 raw words (199270 effective words) took 0.5s, 403683 effective words/s\n",
      "INFO - 09:56:55: EPOCH 36: training on 523538 raw words (199548 effective words) took 0.6s, 331792 effective words/s\n",
      "INFO - 09:56:56: EPOCH 37: training on 523538 raw words (199362 effective words) took 0.6s, 327695 effective words/s\n",
      "INFO - 09:56:57: EPOCH 38: training on 523538 raw words (199017 effective words) took 0.6s, 342256 effective words/s\n",
      "INFO - 09:56:57: EPOCH 39: training on 523538 raw words (199295 effective words) took 0.5s, 367326 effective words/s\n",
      "INFO - 09:56:58: EPOCH 40: training on 523538 raw words (199190 effective words) took 0.5s, 370277 effective words/s\n",
      "INFO - 09:56:58: EPOCH 41: training on 523538 raw words (199089 effective words) took 0.6s, 340708 effective words/s\n",
      "INFO - 09:56:59: EPOCH 42: training on 523538 raw words (199322 effective words) took 0.7s, 294657 effective words/s\n",
      "INFO - 09:57:00: EPOCH 43: training on 523538 raw words (199428 effective words) took 0.4s, 468178 effective words/s\n",
      "INFO - 09:57:00: EPOCH 44: training on 523538 raw words (199261 effective words) took 0.7s, 279410 effective words/s\n",
      "INFO - 09:57:01: EPOCH 45: training on 523538 raw words (199390 effective words) took 0.6s, 313696 effective words/s\n",
      "INFO - 09:57:02: EPOCH 46: training on 523538 raw words (199257 effective words) took 0.7s, 285605 effective words/s\n",
      "INFO - 09:57:02: EPOCH 47: training on 523538 raw words (199213 effective words) took 0.5s, 376416 effective words/s\n",
      "INFO - 09:57:03: EPOCH 48: training on 523538 raw words (199437 effective words) took 0.6s, 322176 effective words/s\n",
      "INFO - 09:57:04: EPOCH 49: training on 523538 raw words (199129 effective words) took 0.6s, 334602 effective words/s\n",
      "INFO - 09:57:04: Word2Vec lifecycle event {'msg': 'training on 26176900 raw words (9965336 effective words) took 30.7s, 324877 effective words/s', 'datetime': '2024-06-11T09:57:04.008174', 'gensim': '4.3.2', 'python': '3.10.4 (tags/v3.10.4:9d38120, Mar 23 2022, 23:13:41) [MSC v.1929 64 bit (AMD64)]', 'platform': 'Windows-10-10.0.22631-SP0', 'event': 'train'}\n"
     ]
    },
    {
     "name": "stdout",
     "output_type": "stream",
     "text": [
      "\n",
      "Time taken to train the model: 0.51 mins\n"
     ]
    }
   ],
   "source": [
    "t= time()\n",
    "w2v_model.train(sentences, total_examples=w2v_model.corpus_count, epochs=50)\n",
    "\n",
    "print()\n",
    "print('Time taken to train the model: {} mins'.format(round((time()-t)/60, 2)))"
   ]
  },
  {
   "cell_type": "markdown",
   "metadata": {},
   "source": [
    "No model training any further --> init_sims() is called, that makes the model much more memory-efficient"
   ]
  },
  {
   "cell_type": "code",
   "execution_count": 41,
   "metadata": {},
   "outputs": [
    {
     "name": "stderr",
     "output_type": "stream",
     "text": [
      "C:\\Users\\klper\\AppData\\Local\\Temp\\ipykernel_4312\\514372312.py:1: DeprecationWarning: Call to deprecated `init_sims` (Gensim 4.0.0 implemented internal optimizations that make calls to init_sims() unnecessary. init_sims() is now obsoleted and will be completely removed in future versions. See https://github.com/RaRe-Technologies/gensim/wiki/Migrating-from-Gensim-3.x-to-4).\n",
      "  w2v_model.init_sims(replace=True)\n",
      "WARNING - 09:57:27: destructive init_sims(replace=True) deprecated & no longer required for space-efficiency\n"
     ]
    }
   ],
   "source": [
    "w2v_model.init_sims(replace=True)"
   ]
  },
  {
   "cell_type": "markdown",
   "metadata": {},
   "source": [
    "<div align=\"center\">\n",
    "  <img src=\"https://c8.alamy.com/comp/2JK4TGD/homer-simpson-the-simpsons-movie-2007-2JK4TGD.jpg\" alt=\"Simpson\" width=200 />\n",
    "</div>"
   ]
  },
  {
   "cell_type": "markdown",
   "metadata": {},
   "source": [
    "Model Exploration"
   ]
  },
  {
   "cell_type": "code",
   "execution_count": 42,
   "metadata": {},
   "outputs": [
    {
     "data": {
      "text/plain": [
       "[('marge', 0.6527020931243896),\n",
       " ('want', 0.5358028411865234),\n",
       " ('maybe', 0.5338903665542603),\n",
       " ('oh', 0.5192403197288513),\n",
       " ('right', 0.48853427171707153),\n",
       " ('finally', 0.47544968128204346),\n",
       " ('dad', 0.46974897384643555),\n",
       " ('husband', 0.45921388268470764),\n",
       " ('think', 0.4455251097679138),\n",
       " ('sorry', 0.4449143409729004)]"
      ]
     },
     "execution_count": 42,
     "metadata": {},
     "output_type": "execute_result"
    }
   ],
   "source": [
    "# Checking Most Similar words\n",
    "w2v_model.wv.most_similar(positive=[\"homer\"])"
   ]
  },
  {
   "cell_type": "code",
   "execution_count": 43,
   "metadata": {},
   "outputs": [
    {
     "data": {
      "text/plain": [
       "[('welcome', 0.4244907796382904),\n",
       " ('sir', 0.41486942768096924),\n",
       " ('simpson', 0.41168108582496643),\n",
       " ('montgomery_burn', 0.3957066833972931),\n",
       " ('year', 0.38972944021224976),\n",
       " ('winner', 0.3883499503135681),\n",
       " ('local', 0.3825806975364685),\n",
       " ('congratulation', 0.3809957802295685),\n",
       " ('sector', 0.36563658714294434),\n",
       " ('yes', 0.3619401454925537)]"
      ]
     },
     "execution_count": 43,
     "metadata": {},
     "output_type": "execute_result"
    }
   ],
   "source": [
    "w2v_model.wv.most_similar(positive=[\"homer_simpson\"])"
   ]
  },
  {
   "cell_type": "code",
   "execution_count": 44,
   "metadata": {},
   "outputs": [
    {
     "data": {
      "text/plain": [
       "[('homer', 0.6527020335197449),\n",
       " ('want', 0.5280627608299255),\n",
       " ('husband', 0.5203080177307129),\n",
       " ('oh', 0.47409939765930176),\n",
       " ('mom', 0.4461785852909088),\n",
       " ('honey', 0.4234790802001953),\n",
       " ('way', 0.4223344326019287),\n",
       " ('right', 0.41960644721984863),\n",
       " ('wife', 0.4072851240634918),\n",
       " ('think', 0.3977859914302826)]"
      ]
     },
     "execution_count": 44,
     "metadata": {},
     "output_type": "execute_result"
    }
   ],
   "source": [
    "w2v_model.wv.most_similar(positive=[\"marge\"])"
   ]
  },
  {
   "cell_type": "markdown",
   "metadata": {},
   "source": [
    "Checking Similarity"
   ]
  },
  {
   "cell_type": "code",
   "execution_count": 45,
   "metadata": {},
   "outputs": [
    {
     "data": {
      "text/plain": [
       "0.45833546"
      ]
     },
     "execution_count": 45,
     "metadata": {},
     "output_type": "execute_result"
    }
   ],
   "source": [
    "w2v_model.wv.similarity('maggie', 'baby')"
   ]
  },
  {
   "cell_type": "code",
   "execution_count": 50,
   "metadata": {},
   "outputs": [
    {
     "data": {
      "text/plain": [
       "0.5362973"
      ]
     },
     "execution_count": 50,
     "metadata": {},
     "output_type": "execute_result"
    }
   ],
   "source": [
    "w2v_model.wv.similarity(\"moe\", \"tavern\")"
   ]
  },
  {
   "cell_type": "code",
   "execution_count": 51,
   "metadata": {},
   "outputs": [
    {
     "name": "stderr",
     "output_type": "stream",
     "text": [
      "WARNING - 10:10:28: vectors for words {'kearney'} are not present in the model, ignoring these words\n"
     ]
    },
    {
     "data": {
      "text/plain": [
       "'jimbo'"
      ]
     },
     "execution_count": 51,
     "metadata": {},
     "output_type": "execute_result"
    }
   ],
   "source": [
    "w2v_model.wv.doesnt_match(['jimbo', 'milhouse', 'kearney'])"
   ]
  },
  {
   "cell_type": "code",
   "execution_count": 52,
   "metadata": {},
   "outputs": [
    {
     "data": {
      "text/plain": [
       "[('lisa', 0.5840775966644287),\n",
       " ('parent', 0.47684958577156067),\n",
       " ('mom', 0.4671202003955841)]"
      ]
     },
     "execution_count": 52,
     "metadata": {},
     "output_type": "execute_result"
    }
   ],
   "source": [
    "w2v_model.wv.most_similar(positive=[\"woman\", \"bart\"], negative=[\"man\"], topn=3)"
   ]
  },
  {
   "cell_type": "markdown",
   "metadata": {},
   "source": [
    "T- SNE Visualizations<br>\n",
    "(It is a non-linear dimensionality reduction algorithm that attempts to represent high-dimensional data and the underlying relationships between vectors in a lower-dimensional space)"
   ]
  },
  {
   "cell_type": "code",
   "execution_count": 53,
   "metadata": {},
   "outputs": [],
   "source": [
    "import matplotlib.pyplot as plt\n",
    "%matplotlib inline\n",
    "import seaborn as sn\n",
    "\n",
    "from sklearn.decomposition import PCA\n",
    "from sklearn.manifold import TSNE"
   ]
  },
  {
   "cell_type": "code",
   "execution_count": 70,
   "metadata": {},
   "outputs": [],
   "source": [
    "def tsneplot(model, word, list_names):\n",
    "    vector_dim = model.wv[word].shape[0]\n",
    "    arrays = np.empty((0, vector_dim), dtype='f')\n",
    "    word_labels = [word]\n",
    "    color_list  = ['red']\n",
    "\n",
    "    arrays = np.append(arrays, [model.wv[word]], axis=0)\n",
    "\n",
    "    # Getting the similiar words and adding to vector\n",
    "    close_words = model.wv.most_similar(word)\n",
    "    for wrd_score in close_words:\n",
    "        wrd_vector = model.wv[wrd_score[0]]\n",
    "        word_labels.append(wrd_score[0])\n",
    "        color_list.append('blue')\n",
    "        arrays = np.append(arrays, [wrd_vector], axis=0)\n",
    "    \n",
    "    # Adds the vector for each of the words from list_names to the array\n",
    "    for wrd in list_names:\n",
    "        if wrd in model.wv:\n",
    "            wrd_vector = model.wv[wrd]\n",
    "            word_labels.append(wrd)\n",
    "            color_list.append('green')\n",
    "            arrays = np.append(arrays, [wrd_vector], axis=0)\n",
    "    \n",
    "    n_components = min(arrays.shape[0], arrays.shape[1], 50)  # 50 or lower PCA Components based on the data\n",
    "    reduc = PCA(n_components=n_components).fit_transform(arrays)\n",
    "    \n",
    "    # Finds t-SNE coordinates for 2 dimensions\n",
    "    np.set_printoptions(suppress=True)\n",
    "    Y = TSNE(n_components=2, random_state=0, perplexity=15).fit_transform(reduc)\n",
    "    \n",
    "    df = pd.DataFrame({\n",
    "        'x': Y[:, 0],\n",
    "        'y': Y[:, 1],\n",
    "        'words': word_labels,\n",
    "        'color': color_list\n",
    "    })\n",
    "    \n",
    "    fig, _ = plt.subplots()\n",
    "    fig.set_size_inches(7,7)\n",
    "    \n",
    "    p1 = sns.regplot(data=df, x=\"x\", y=\"y\",\n",
    "                     fit_reg=False, marker=\"o\",\n",
    "                     scatter_kws={'s': 40, 'facecolors': df['color']})\n",
    "    \n",
    "    for line in range(df.shape[0]):\n",
    "        p1.text(df[\"x\"][line], df['y'][line], '  ' + df[\"words\"][line].title(),\n",
    "                horizontalalignment='left', verticalalignment='bottom', size='medium',\n",
    "                color=df['color'][line], weight='normal').set_size(15)\n",
    "    \n",
    "    plt.xlim(Y[:, 0].min()-20, Y[:, 0].max()+20)\n",
    "    plt.ylim(Y[:, 1].min()-20, Y[:, 1].max()+20)\n",
    "            \n",
    "    plt.title('T-SNE visualization for {}'.format(word.title()))"
   ]
  },
  {
   "cell_type": "markdown",
   "metadata": {},
   "source": [
    "The query word is represented in **red**, its most similar words in the model in **blue**, and other words from the vocabulary in **green**."
   ]
  },
  {
   "cell_type": "code",
   "execution_count": 72,
   "metadata": {},
   "outputs": [
    {
     "data": {
      "image/png": "[encoded data removed]",
      "text/plain": [
       "<Figure size 700x700 with 1 Axes>"
      ]
     },
     "metadata": {},
     "output_type": "display_data"
    }
   ],
   "source": [
    "# Comparing Homer with its 10 most similar wordds and some random words\n",
    "tsneplot(w2v_model, 'homer', ['dog', 'bird', 'ah', 'maude', 'bob', 'mel', 'apu', 'duff'])"
   ]
  },
  {
   "cell_type": "code",
   "execution_count": 74,
   "metadata": {},
   "outputs": [
    {
     "data": {
      "image/png": "[encoded data removed]",
      "text/plain": [
       "<Figure size 700x700 with 1 Axes>"
      ]
     },
     "metadata": {},
     "output_type": "display_data"
    }
   ],
   "source": [
    "# Most similar vs most dissimilar\n",
    "tsneplot(w2v_model, 'maggie', [i[0] for i in w2v_model.wv.most_similar(negative=[\"maggie\"])])"
   ]
  }
 ],
 "metadata": {
  "kernelspec": {
   "display_name": "Python 3",
   "language": "python",
   "name": "python3"
  },
  "language_info": {
   "codemirror_mode": {
    "name": "ipython",
    "version": 3
   },
   "file_extension": ".py",
   "mimetype": "text/x-python",
   "name": "python",
   "nbconvert_exporter": "python",
   "pygments_lexer": "ipython3",
   "version": "3.10.4"
  }
 },
 "nbformat": 4,
 "nbformat_minor": 2
}
